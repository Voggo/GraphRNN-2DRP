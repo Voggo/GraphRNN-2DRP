{
 "cells": [
  {
   "cell_type": "code",
   "execution_count": 2,
   "metadata": {},
   "outputs": [],
   "source": [
    "from shapely.geometry import Polygon, Point\n",
    "from shapely import union, union_all, box, intersection"
   ]
  },
  {
   "cell_type": "code",
   "execution_count": 21,
   "metadata": {},
   "outputs": [
    {
     "name": "stdout",
     "output_type": "stream",
     "text": [
      "array('d', [0.0, 0.0, 0.5, 0.5, 2.0, 2.0, 1.0, 1.0, 0.0]) array('d', [0.0, 1.0, 1.0, 2.0, 2.0, 0.5, 0.5, 0.0, 0.0])\n",
      "array('d', [3.0, 7.0, 7.0, 3.0, 3.0]) array('d', [4.0, 4.0, 3.0, 3.0, 4.0])\n",
      "array('d', [5.0, 8.0, 8.0, 5.0, 5.0]) array('d', [13.0, 13.0, 9.0, 9.0, 13.0])\n",
      "0 0 8.0 13.0\n"
     ]
    }
   ],
   "source": [
    "poly = box(0, 0, 1, 1)\n",
    "poly2 = box(0.5, 0.5, 2, 2)\n",
    "poly3 = box(3, 3, 7, 4)\n",
    "poly4 = box(5, 9 , 8, 13)\n",
    "fill_area = box(0, 0, 10, 10)\n",
    "union_poly = union_all([poly, poly2, poly3, poly4])\n",
    "intersection_poly = intersection(fill_area, union_poly)\n",
    "max_x = 0\n",
    "max_y = 0\n",
    "min_x = 0\n",
    "min_y = 0   \n",
    "for i in union_poly.geoms:\n",
    "    x, y =i.exterior.coords.xy\n",
    "    print(x, y)\n",
    "    if max_x < max(x):\n",
    "        max_x = max(x)\n",
    "    if max_y < max(y):\n",
    "        max_y = max(y)\n",
    "    if min_x > min(x):\n",
    "        min_x = min(x)\n",
    "    if min_y > min(y):\n",
    "        min_y = min(y)\n",
    "print(min_x, min_y, max_x, max_y)"
   ]
  }
 ],
 "metadata": {
  "kernelspec": {
   "display_name": "base",
   "language": "python",
   "name": "python3"
  },
  "language_info": {
   "codemirror_mode": {
    "name": "ipython",
    "version": 3
   },
   "file_extension": ".py",
   "mimetype": "text/x-python",
   "name": "python",
   "nbconvert_exporter": "python",
   "pygments_lexer": "ipython3",
   "version": "3.11.7"
  }
 },
 "nbformat": 4,
 "nbformat_minor": 2
}
